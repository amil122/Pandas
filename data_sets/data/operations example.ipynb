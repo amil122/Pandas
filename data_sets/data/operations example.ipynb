{
 "cells": [
  {
   "cell_type": "code",
   "execution_count": null,
   "id": "c755ac0d",
   "metadata": {},
   "outputs": [],
   "source": [
    "import pandas as pd\n",
    "\n",
    "# Step 1: Create a Pandas Series\n",
    "data = [1, 2, 3, 4, 5]\n",
    "index = ['a', 'b', 'c', 'd', 'e']\n",
    "dtype = 'int64'\n",
    "name = 'numbers'\n",
    "\n",
    "series = pd.Series(data=data, index=index, dtype=dtype, name=name)\n",
    "print(\"Original Series:\")\n",
    "print(series)\n",
    "\n",
    "# Step 2: Change the Data Type of the Series\n",
    "series_float = series.astype(dtype='float64', copy=True, errors='raise')\n",
    "print(\"\\nSeries with float64 data type:\")\n",
    "print(series_float)\n",
    "\n",
    "# Step 3: Convert the Series to a DataFrame\n",
    "df = series_float.to_frame(name='float_numbers')\n",
    "print(\"\\nConverted DataFrame:\")\n",
    "print(df)\n",
    "             "
   ]
  }
 ],
 "metadata": {
  "kernelspec": {
   "display_name": "Python 3 (ipykernel)",
   "language": "python",
   "name": "python3"
  },
  "language_info": {
   "codemirror_mode": {
    "name": "ipython",
    "version": 3
   },
   "file_extension": ".py",
   "mimetype": "text/x-python",
   "name": "python",
   "nbconvert_exporter": "python",
   "pygments_lexer": "ipython3",
   "version": "3.11.7"
  }
 },
 "nbformat": 4,
 "nbformat_minor": 5
}
